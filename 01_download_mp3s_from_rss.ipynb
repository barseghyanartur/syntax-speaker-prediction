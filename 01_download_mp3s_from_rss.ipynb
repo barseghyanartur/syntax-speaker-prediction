{
 "cells": [
  {
   "cell_type": "code",
   "execution_count": null,
   "metadata": {},
   "outputs": [],
   "source": [
    "import requests\n",
    "from bs4 import BeautifulSoup"
   ]
  },
  {
   "cell_type": "code",
   "execution_count": null,
   "metadata": {},
   "outputs": [],
   "source": [
    "r = requests.get(\"https://feed.syntax.fm/rss\")"
   ]
  },
  {
   "cell_type": "code",
   "execution_count": null,
   "metadata": {},
   "outputs": [],
   "source": [
    "soup = BeautifulSoup(r.text, \"lxml\")"
   ]
  },
  {
   "cell_type": "code",
   "execution_count": null,
   "metadata": {},
   "outputs": [],
   "source": [
    "urls = [t.attrs['url'] for t in soup.findAll(\"enclosure\")]\n",
    "first_show_url = \"https://traffic.libsyn.com/syntax/syntax001_4.mp3\"\n",
    "urls += first_show_url"
   ]
  },
  {
   "cell_type": "code",
   "execution_count": null,
   "metadata": {},
   "outputs": [],
   "source": [
    "def download_mp3(url):\n",
    "    filename = url.split(\"/\")[-1].split(\"?\")[0]\n",
    "    r_content = requests.get(url)\n",
    "    try:\n",
    "        with open(f\"episodes/{filename}\", \"xb\") as f:\n",
    "            f.write(r_content.content)\n",
    "    except FileExistsError:\n",
    "        print(f\"episodes/{filename} already exists\")"
   ]
  },
  {
   "cell_type": "code",
   "execution_count": null,
   "metadata": {},
   "outputs": [],
   "source": [
    "for i, url in enumerate(urls):\n",
    "    download_mp3(url)\n",
    "    print(\"COMPLETED:\", i, url)"
   ]
  },
  {
   "cell_type": "code",
   "execution_count": null,
   "metadata": {},
   "outputs": [],
   "source": []
  }
 ],
 "metadata": {
  "kernelspec": {
   "display_name": "Python 3",
   "language": "python",
   "name": "python3"
  },
  "language_info": {
   "codemirror_mode": {
    "name": "ipython",
    "version": 3
   },
   "file_extension": ".py",
   "mimetype": "text/x-python",
   "name": "python",
   "nbconvert_exporter": "python",
   "pygments_lexer": "ipython3",
   "version": "3.6.5"
  }
 },
 "nbformat": 4,
 "nbformat_minor": 2
}
