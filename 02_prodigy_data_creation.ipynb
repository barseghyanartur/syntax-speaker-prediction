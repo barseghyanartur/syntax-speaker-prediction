{
 "cells": [
  {
   "cell_type": "markdown",
   "metadata": {},
   "source": [
    "# Prodigy Data Creation\n",
    "This notebook creates the input files necessary for loading and labeling in Prodigy. In here we:\n",
    "1. Split the input mp3s into one second clips\n",
    "2. Fill an HTML template with the clip location and clip metadata.\n",
    "3. Save the clips as mp3s, and the filled templates as JSONL for loading in PRodigy."
   ]
  },
  {
   "cell_type": "code",
   "execution_count": 1,
   "metadata": {},
   "outputs": [],
   "source": [
    "from pathlib import Path\n",
    "\n",
    "import jsonlines\n",
    "import numpy as np\n",
    "import pydub"
   ]
  },
  {
   "cell_type": "code",
   "execution_count": 2,
   "metadata": {},
   "outputs": [],
   "source": [
    "def split_audio(segment, episode):\n",
    "    \"\"\"Takes an episode segment and splits it into 1s chunks\"\"\"\n",
    "    slices_1s = segment[::1000]\n",
    "    for i, chunk in enumerate(slices_1s):\n",
    "        second_zfill = str(i).zfill(4)\n",
    "        try:\n",
    "            with open(f\"syntax-clips/syntax{episode}-{second_zfill}.mp3\", \"xb\") as f:\n",
    "                chunk.export(f, format=\"mp3\")\n",
    "        except FileExistsError:\n",
    "            pass\n",
    "\n",
    "\n",
    "html_template = \"<audio controls autoplay loop><source src=\\\"http://localhost:9999/{0}\\\" type=\\\"audio/mp3\\\"></audio><p>Episode: {1}, Second: {2}</p>\"\n",
    "\n",
    "\n",
    "def create_jsonl(episode):\n",
    "    \"\"\"Creates a JSONL file for Prodigy\n",
    "    with autoplay loop HTML pointing to the chunked mp3s\"\"\"\n",
    "\n",
    "    ep_segments = sorted(Path(\"./syntax-clips/\").glob(f\"syntax{episode}*.mp3\"))\n",
    "    data = []\n",
    "    for i, mp3_path in enumerate(ep_segments):\n",
    "        html = html_template.format(mp3_path.name, episode, str(i).zfill(4))\n",
    "        text = \"E{0}:S{1}\".format(episode, str(i).zfill(4))\n",
    "        data.append(dict(html=html, text=text))\n",
    "\n",
    "    with jsonlines.open(f'./prodigy-json/{episode}.jsonl', mode='w') as writer:\n",
    "        writer.write_all(data)"
   ]
  },
  {
   "cell_type": "code",
   "execution_count": 3,
   "metadata": {},
   "outputs": [],
   "source": [
    "episodes = list(sorted(Path(\"./episodes/\").glob(\"*.mp3\")))"
   ]
  },
  {
   "cell_type": "code",
   "execution_count": null,
   "metadata": {},
   "outputs": [],
   "source": [
    "for episode in episodes:\n",
    "    ep_num = episode.stem[6:9]\n",
    "    print(\"Loading\", ep_num)\n",
    "    ep_mono = pydub.AudioSegment.from_mp3(str(episode)).set_channels(1)\n",
    "    print(\"Length (s):\", len(ep_mono) / 1000)\n",
    "    split_audio(ep_mono, ep_num)\n",
    "    print(\"Split Complete\")\n",
    "    create_jsonl(ep_num)\n",
    "    print(\"JSONL Created\")"
   ]
  },
  {
   "cell_type": "code",
   "execution_count": null,
   "metadata": {},
   "outputs": [],
   "source": []
  }
 ],
 "metadata": {
  "kernelspec": {
   "display_name": "Python 3",
   "language": "python",
   "name": "python3"
  },
  "language_info": {
   "codemirror_mode": {
    "name": "ipython",
    "version": 3
   },
   "file_extension": ".py",
   "mimetype": "text/x-python",
   "name": "python",
   "nbconvert_exporter": "python",
   "pygments_lexer": "ipython3",
   "version": "3.6.5"
  }
 },
 "nbformat": 4,
 "nbformat_minor": 2
}
