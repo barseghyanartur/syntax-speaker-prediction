{
 "cells": [
  {
   "cell_type": "markdown",
   "metadata": {},
   "source": [
    "# Label Data Processing\n",
    "In this notebook we take the labeled data that's been output from Prodigy and process into a format usable for machine learning.\n",
    "\n",
    "Steps:\n",
    "1. Load in `.jsonl` file, keeping only the fields we need.\n",
    "2. Create features from the audio clips based on the [Mel scale](https://en.wikipedia.org/wiki/Mel_scale)\n",
    "3. Save the features and labels to disk."
   ]
  },
  {
   "cell_type": "code",
   "execution_count": 1,
   "metadata": {},
   "outputs": [],
   "source": [
    "import jsonlines\n",
    "import librosa\n",
    "import librosa.display\n",
    "import numpy as np\n",
    "import pandas as pd\n",
    "import pylab\n",
    "\n",
    "%matplotlib inline"
   ]
  },
  {
   "cell_type": "code",
   "execution_count": 2,
   "metadata": {},
   "outputs": [],
   "source": [
    "with jsonlines.open(\"output/syntax-label.jsonl\", \"r\") as reader:\n",
    "    labels = [(line.get(\"text\"), line.get(\"accept\")) for line in reader]"
   ]
  },
  {
   "cell_type": "code",
   "execution_count": 3,
   "metadata": {},
   "outputs": [],
   "source": [
    "label_map = {'scott': 0, 'wes': 1, 'other': 2}"
   ]
  },
  {
   "cell_type": "code",
   "execution_count": 6,
   "metadata": {},
   "outputs": [],
   "source": [
    "data = []\n",
    "for text, label in labels:\n",
    "    episode, second = [i[1:] for i in text.split(\":\")]\n",
    "    if label:\n",
    "        label_name = label[0]\n",
    "        label_id = label_map[label[0]]\n",
    "    else:\n",
    "        label_id = label_map['other']\n",
    "        label_name = \"other\"\n",
    "    data.append(dict(episode=episode, second=second.zfill(4),\n",
    "                     label_name=label_name, label_id=label_id))"
   ]
  },
  {
   "cell_type": "code",
   "execution_count": 7,
   "metadata": {},
   "outputs": [
    {
     "data": {
      "text/plain": [
       "{'episode': '044', 'second': '0000', 'label_name': 'other', 'label_id': 2}"
      ]
     },
     "execution_count": 7,
     "metadata": {},
     "output_type": "execute_result"
    }
   ],
   "source": [
    "data[0]"
   ]
  },
  {
   "cell_type": "code",
   "execution_count": 8,
   "metadata": {},
   "outputs": [
    {
     "name": "stdout",
     "output_type": "stream",
     "text": [
      "CPU times: user 24min 5s, sys: 17.5 s, total: 24min 22s\n",
      "Wall time: 4min 6s\n"
     ]
    }
   ],
   "source": [
    "%%time\n",
    "raw_data = []\n",
    "mel_data = []\n",
    "raw_trash = []\n",
    "mel_trash = []\n",
    "for i, row in enumerate(data):\n",
    "    second = row['second']\n",
    "    episode = row['episode']\n",
    "    y, sr = librosa.load(f\"syntax-clips/syntax{episode}-{second}.mp3\")\n",
    "    mel_spec = librosa.feature.melspectrogram(y=y, sr=sr)\n",
    "    mel_ravel = mel_spec.ravel()\n",
    "    if i == 0:\n",
    "        y_shape = y.shape\n",
    "        mel_shape = mel_ravel.shape\n",
    "    if y.shape == y_shape:\n",
    "        raw_data.append(y)\n",
    "    else:\n",
    "        raw_trash.append(i)\n",
    "    if mel_ravel.shape == mel_shape:\n",
    "        mel_data.append(mel_ravel)\n",
    "    else:\n",
    "        mel_trash.append(i)"
   ]
  },
  {
   "cell_type": "code",
   "execution_count": 9,
   "metadata": {},
   "outputs": [],
   "source": [
    "mel_array = np.array(mel_data)\n",
    "raw_array = np.array(raw_data)"
   ]
  },
  {
   "cell_type": "code",
   "execution_count": 10,
   "metadata": {},
   "outputs": [
    {
     "data": {
      "text/plain": [
       "(5260, 5888)"
      ]
     },
     "execution_count": 10,
     "metadata": {},
     "output_type": "execute_result"
    }
   ],
   "source": [
    "mel_array.shape"
   ]
  },
  {
   "cell_type": "code",
   "execution_count": 11,
   "metadata": {},
   "outputs": [],
   "source": [
    "X = pd.DataFrame(mel_array, columns=[\n",
    "                 f\"f{i}\" for i in range(mel_array.shape[1])])\n",
    "X.to_csv(\"./training-data/X.csv\")"
   ]
  },
  {
   "cell_type": "code",
   "execution_count": 12,
   "metadata": {},
   "outputs": [],
   "source": [
    "label_df = pd.DataFrame((d for i, d in enumerate(data) if i not in mel_trash))\n",
    "label_df.to_csv(\"./training-data/labels.csv\")"
   ]
  },
  {
   "cell_type": "code",
   "execution_count": 137,
   "metadata": {},
   "outputs": [],
   "source": []
  }
 ],
 "metadata": {
  "kernelspec": {
   "display_name": "Python 3",
   "language": "python",
   "name": "python3"
  },
  "language_info": {
   "codemirror_mode": {
    "name": "ipython",
    "version": 3
   },
   "file_extension": ".py",
   "mimetype": "text/x-python",
   "name": "python",
   "nbconvert_exporter": "python",
   "pygments_lexer": "ipython3",
   "version": "3.6.5"
  }
 },
 "nbformat": 4,
 "nbformat_minor": 2
}
