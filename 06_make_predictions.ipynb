{
 "cells": [
  {
   "cell_type": "markdown",
   "metadata": {},
   "source": [
    "# Make Predictions\n",
    "In this notebook, we make predictions on the entire dataset of clips and save those predictions for future use."
   ]
  },
  {
   "cell_type": "code",
   "execution_count": 1,
   "metadata": {},
   "outputs": [],
   "source": [
    "import warnings\n",
    "from pathlib import Path\n",
    "\n",
    "import librosa\n",
    "import pandas as pd\n",
    "from tqdm import tqdm\n",
    "from sklearn.externals import joblib"
   ]
  },
  {
   "cell_type": "code",
   "execution_count": 2,
   "metadata": {},
   "outputs": [],
   "source": [
    "warnings.filterwarnings(\"ignore\", category=DeprecationWarning)"
   ]
  },
  {
   "cell_type": "code",
   "execution_count": 3,
   "metadata": {},
   "outputs": [],
   "source": [
    "full_model = joblib.load(\"syntax-speaker-predictor.pkl\")"
   ]
  },
  {
   "cell_type": "markdown",
   "metadata": {},
   "source": [
    "### Create Pipeline Functions\n"
   ]
  },
  {
   "cell_type": "code",
   "execution_count": 4,
   "metadata": {},
   "outputs": [],
   "source": [
    "def get_features(mp3_path):\n",
    "    y, sr = librosa.load(mp3_path)\n",
    "    mel_spec = librosa.feature.melspectrogram(y=y, sr=sr)\n",
    "    mel_ravel = mel_spec.ravel()\n",
    "    return mel_ravel\n",
    "\n",
    "\n",
    "def make_prediction(mp3_path):\n",
    "    try:\n",
    "        x = get_features(mp3_path)\n",
    "    except EOFError:\n",
    "        return 2\n",
    "    if x.shape != (5888,):\n",
    "        return 2  # other (under 1s)\n",
    "    else:\n",
    "        pred = full_model.predict([x])\n",
    "        return pred[0]"
   ]
  },
  {
   "cell_type": "markdown",
   "metadata": {},
   "source": [
    "### Full Data Prediction"
   ]
  },
  {
   "cell_type": "code",
   "execution_count": null,
   "metadata": {},
   "outputs": [
    {
     "name": "stderr",
     "output_type": "stream",
     "text": [
      "100%|██████████| 316599/316599 [4:13:50<00:00, 20.79it/s]   \n"
     ]
    }
   ],
   "source": [
    "all_clips = list(sorted(Path(\"./syntax-clips/\").glob(f\"syntax*.mp3\")))\n",
    "prediction_data_all = []\n",
    "for clip in tqdm(all_clips, total=len(all_clips)):\n",
    "    prediction_data_all.append((clip.stem, make_prediction(str(clip))))"
   ]
  },
  {
   "cell_type": "code",
   "execution_count": 8,
   "metadata": {},
   "outputs": [],
   "source": [
    "prediction_df_all = (pd.DataFrame(prediction_data_all,\n",
    "                                  columns=[\"segment\", \"prediction\"]))"
   ]
  },
  {
   "cell_type": "code",
   "execution_count": 9,
   "metadata": {},
   "outputs": [],
   "source": [
    "prediction_df_all.to_csv(\"all_predictions.csv\", index=False)"
   ]
  },
  {
   "cell_type": "code",
   "execution_count": null,
   "metadata": {},
   "outputs": [],
   "source": []
  }
 ],
 "metadata": {
  "kernelspec": {
   "display_name": "Python 3",
   "language": "python",
   "name": "python3"
  },
  "language_info": {
   "codemirror_mode": {
    "name": "ipython",
    "version": 3
   },
   "file_extension": ".py",
   "mimetype": "text/x-python",
   "name": "python",
   "nbconvert_exporter": "python",
   "pygments_lexer": "ipython3",
   "version": "3.6.5"
  }
 },
 "nbformat": 4,
 "nbformat_minor": 2
}
